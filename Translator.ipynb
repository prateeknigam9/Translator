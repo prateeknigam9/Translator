{
  "nbformat": 4,
  "nbformat_minor": 0,
  "metadata": {
    "colab": {
      "name": "Translater.ipynb",
      "provenance": [],
      "collapsed_sections": [],
      "mount_file_id": "1fFY_p8E9mMIcCJhnvhJ6PLKug0kOH7zc",
      "authorship_tag": "ABX9TyNNJj0uWgpIvfmvhfalpYDq",
      "include_colab_link": true
    },
    "kernelspec": {
      "name": "python3",
      "display_name": "Python 3"
    },
    "language_info": {
      "name": "python"
    },
    "accelerator": "GPU"
  },
  "cells": [
    {
      "cell_type": "markdown",
      "metadata": {
        "id": "view-in-github",
        "colab_type": "text"
      },
      "source": [
        "<a href=\"https://colab.research.google.com/github/prateeknigam9/Translator/blob/main/Translator.ipynb\" target=\"_parent\"><img src=\"https://colab.research.google.com/assets/colab-badge.svg\" alt=\"Open In Colab\"/></a>"
      ]
    },
    {
      "cell_type": "markdown",
      "metadata": {
        "id": "WdEgHkB_vMkp"
      },
      "source": [
        "# Translator Italian to English\n"
      ]
    },
    {
      "cell_type": "code",
      "metadata": {
        "colab": {
          "base_uri": "https://localhost:8080/"
        },
        "id": "3XTRM3ujtJCB",
        "outputId": "88cae62a-70e5-4e18-bfa1-dfabab901c9e"
      },
      "source": [
        "%cd '/content/drive/MyDrive/Colab Notebooks'"
      ],
      "execution_count": 16,
      "outputs": [
        {
          "output_type": "stream",
          "text": [
            "/content/drive/MyDrive/Colab Notebooks\n"
          ],
          "name": "stdout"
        }
      ]
    },
    {
      "cell_type": "code",
      "metadata": {
        "colab": {
          "base_uri": "https://localhost:8080/"
        },
        "id": "hbouMFgKxv4g",
        "outputId": "8b60139b-a60d-469b-9dce-a91b8d89475d"
      },
      "source": [
        "!ls"
      ],
      "execution_count": 17,
      "outputs": [
        {
          "output_type": "stream",
          "text": [
            "_about.txt  ita-eng.zip  ita.txt  Translater.ipynb\n"
          ],
          "name": "stdout"
        }
      ]
    },
    {
      "cell_type": "code",
      "metadata": {
        "id": "HteVYQMgxwaS"
      },
      "source": [
        "# !unzip ita-eng.zip"
      ],
      "execution_count": 18,
      "outputs": []
    },
    {
      "cell_type": "code",
      "metadata": {
        "colab": {
          "base_uri": "https://localhost:8080/"
        },
        "id": "qqRBg5JRxzzO",
        "outputId": "60270d5b-2a9d-4607-e3d7-ee873d33ad59"
      },
      "source": [
        "!ls -ltr"
      ],
      "execution_count": 19,
      "outputs": [
        {
          "output_type": "stream",
          "text": [
            "total 55543\n",
            "-rw------- 1 root root 49194161 Jan 24 02:56 ita.txt\n",
            "-rw------- 1 root root     1441 Jan 24 02:56 _about.txt\n",
            "-rw------- 1 root root  7567445 May 27 02:44 ita-eng.zip\n",
            "-rw------- 1 root root   111698 May 30 09:46 Translater.ipynb\n"
          ],
          "name": "stdout"
        }
      ]
    },
    {
      "cell_type": "markdown",
      "metadata": {
        "id": "oBy39Sg90Cw-"
      },
      "source": [
        "## Libraries"
      ]
    },
    {
      "cell_type": "code",
      "metadata": {
        "id": "R8enXk-N0A81"
      },
      "source": [
        "import pandas as pd\n",
        "import re\n",
        "import matplotlib.pyplot as plt\n",
        "import seaborn as sns\n",
        "%matplotlib inline\n",
        "import numpy as np\n",
        "from sklearn.model_selection import train_test_split\n",
        "import warnings\n",
        "warnings.filterwarnings(\"ignore\")\n",
        "from tensorflow.keras.preprocessing.text import Tokenizer\n",
        "from tensorflow.keras.preprocessing.sequence import pad_sequences\n",
        "import matplotlib.ticker as ticker"
      ],
      "execution_count": 184,
      "outputs": []
    },
    {
      "cell_type": "markdown",
      "metadata": {
        "id": "b0FhST8p0G-2"
      },
      "source": [
        "## Data Gathering"
      ]
    },
    {
      "cell_type": "code",
      "metadata": {
        "colab": {
          "base_uri": "https://localhost:8080/"
        },
        "id": "26qrAqbjx2el",
        "outputId": "0e678554-54b7-40a3-9909-6cf316dbc351"
      },
      "source": [
        "english,italian=[],[]\n",
        "with open('ita.txt','r',encoding='utf-8') as f:\n",
        "  for i,val in enumerate(f.readlines()):\n",
        "    english.append(val.split('\\t')[0])\n",
        "    italian.append(val.split('\\t')[1])\n",
        "    if i > 97 and i <=100:\n",
        "      print(val.split()[:2])"
      ],
      "execution_count": 21,
      "outputs": [
        {
          "output_type": "stream",
          "text": [
            "['Go', 'now.']\n",
            "['Got', 'it!']\n",
            "['Got', 'it!']\n"
          ],
          "name": "stdout"
        }
      ]
    },
    {
      "cell_type": "code",
      "metadata": {
        "colab": {
          "base_uri": "https://localhost:8080/",
          "height": 197
        },
        "id": "AO8oYrKUyBEa",
        "outputId": "e71a42ae-ee36-4811-8c05-2619e4efe3cb"
      },
      "source": [
        "data = pd.DataFrame()\n",
        "data['English'] = english\n",
        "data['italian'] = italian\n",
        "del english,italian\n",
        "data.sample(5)"
      ],
      "execution_count": 22,
      "outputs": [
        {
          "output_type": "execute_result",
          "data": {
            "text/html": [
              "<div>\n",
              "<style scoped>\n",
              "    .dataframe tbody tr th:only-of-type {\n",
              "        vertical-align: middle;\n",
              "    }\n",
              "\n",
              "    .dataframe tbody tr th {\n",
              "        vertical-align: top;\n",
              "    }\n",
              "\n",
              "    .dataframe thead th {\n",
              "        text-align: right;\n",
              "    }\n",
              "</style>\n",
              "<table border=\"1\" class=\"dataframe\">\n",
              "  <thead>\n",
              "    <tr style=\"text-align: right;\">\n",
              "      <th></th>\n",
              "      <th>English</th>\n",
              "      <th>italian</th>\n",
              "    </tr>\n",
              "  </thead>\n",
              "  <tbody>\n",
              "    <tr>\n",
              "      <th>39193</th>\n",
              "      <td>She studies hard.</td>\n",
              "      <td>Studia duramente.</td>\n",
              "    </tr>\n",
              "    <tr>\n",
              "      <th>134373</th>\n",
              "      <td>I wasn't busy last week.</td>\n",
              "      <td>Non ero occupato la settimana scorsa.</td>\n",
              "    </tr>\n",
              "    <tr>\n",
              "      <th>39607</th>\n",
              "      <td>The door is ajar.</td>\n",
              "      <td>La porta è socchiusa.</td>\n",
              "    </tr>\n",
              "    <tr>\n",
              "      <th>321754</th>\n",
              "      <td>Tom stands by me whenever I am in trouble.</td>\n",
              "      <td>Tom è accanto a me ogni volta che sono nei guai.</td>\n",
              "    </tr>\n",
              "    <tr>\n",
              "      <th>98739</th>\n",
              "      <td>Can we just skip that?</td>\n",
              "      <td>Possiamo saltarlo e basta?</td>\n",
              "    </tr>\n",
              "  </tbody>\n",
              "</table>\n",
              "</div>"
            ],
            "text/plain": [
              "                                           English                                           italian\n",
              "39193                            She studies hard.                                 Studia duramente.\n",
              "134373                    I wasn't busy last week.             Non ero occupato la settimana scorsa.\n",
              "39607                            The door is ajar.                             La porta è socchiusa.\n",
              "321754  Tom stands by me whenever I am in trouble.  Tom è accanto a me ogni volta che sono nei guai.\n",
              "98739                       Can we just skip that?                        Possiamo saltarlo e basta?"
            ]
          },
          "metadata": {
            "tags": []
          },
          "execution_count": 22
        }
      ]
    },
    {
      "cell_type": "markdown",
      "metadata": {
        "id": "2y8jrjMq0ZlH"
      },
      "source": [
        "### Preprocessing"
      ]
    },
    {
      "cell_type": "code",
      "metadata": {
        "id": "3TRt0gFdyBil"
      },
      "source": [
        "# https://stackoverflow.com/questions/19790188/expanding-english-language-contractions-in-python\n",
        "\n",
        "#replacing contracted words with decontracted\n",
        "def decontractions(phrase):\n",
        "    \"\"\"decontracted takes text and convert contractions into natural form.\n",
        "     ref: https://stackoverflow.com/questions/19790188/expanding-english-language-contractions-in-python/47091490#47091490\"\"\"\n",
        "    # specific\n",
        "    phrase = re.sub(r\"won\\'t\", \"will not\", phrase)\n",
        "    phrase = re.sub(r\"can\\'t\", \"can not\", phrase)\n",
        "    phrase = re.sub(r\"won\\’t\", \"will not\", phrase)\n",
        "    phrase = re.sub(r\"can\\’t\", \"can not\", phrase)\n",
        "\n",
        "    # general\n",
        "    phrase = re.sub(r\"n\\'t\", \" not\", phrase)\n",
        "    phrase = re.sub(r\"\\'re\", \" are\", phrase)\n",
        "    phrase = re.sub(r\"\\'s\", \" is\", phrase)\n",
        "    phrase = re.sub(r\"\\'d\", \" would\", phrase)\n",
        "    phrase = re.sub(r\"\\'ll\", \" will\", phrase)\n",
        "    phrase = re.sub(r\"\\'t\", \" not\", phrase)\n",
        "    phrase = re.sub(r\"\\'ve\", \" have\", phrase)\n",
        "    phrase = re.sub(r\"\\'m\", \" am\", phrase)\n",
        "\n",
        "    phrase = re.sub(r\"n\\’t\", \" not\", phrase)\n",
        "    phrase = re.sub(r\"\\’re\", \" are\", phrase)\n",
        "    phrase = re.sub(r\"\\’s\", \" is\", phrase)\n",
        "    phrase = re.sub(r\"\\’d\", \" would\", phrase)\n",
        "    phrase = re.sub(r\"\\’ll\", \" will\", phrase)\n",
        "    phrase = re.sub(r\"\\’t\", \" not\", phrase)\n",
        "    phrase = re.sub(r\"\\’ve\", \" have\", phrase)\n",
        "    phrase = re.sub(r\"\\’m\", \" am\", phrase)\n",
        "\n",
        "    return phrase\n",
        "\n",
        "# removing extra special characters\n",
        "def preprocess(text):\n",
        "    # convert all the text into lower letters\n",
        "    # remove all the spacial characters: except space ' '\n",
        "    text = text.lower()\n",
        "    text = decontractions(text)\n",
        "    text = re.sub('[^A-Za-z0-9 ]+', '', text)\n",
        "    return text\n",
        "\n",
        "# preprocessing for itallian language\n",
        "def preprocess_ita(text):    \n",
        "    text = text.lower()\n",
        "    text = decontractions(text)\n",
        "    text = re.sub('[$)\\?\"’.°!;\\'€%:,(/]', '', text)\n",
        "    text = re.sub('\\u200b', ' ', text)\n",
        "    text = re.sub('\\xa0', ' ', text)\n",
        "    text = re.sub('-', ' ', text)\n",
        "    return text"
      ],
      "execution_count": 23,
      "outputs": []
    },
    {
      "cell_type": "code",
      "metadata": {
        "id": "OGX5XRYb1qVN"
      },
      "source": [
        "data['English'] = data['English'].apply(preprocess)\n",
        "data['italian'] = data['italian'].apply(preprocess_ita)"
      ],
      "execution_count": 24,
      "outputs": []
    },
    {
      "cell_type": "code",
      "metadata": {
        "colab": {
          "base_uri": "https://localhost:8080/",
          "height": 137
        },
        "id": "CBMvbSqe13W6",
        "outputId": "c84a45c4-7983-4a22-9e57-063f7426daa2"
      },
      "source": [
        "data.sample(3)"
      ],
      "execution_count": 25,
      "outputs": [
        {
          "output_type": "execute_result",
          "data": {
            "text/html": [
              "<div>\n",
              "<style scoped>\n",
              "    .dataframe tbody tr th:only-of-type {\n",
              "        vertical-align: middle;\n",
              "    }\n",
              "\n",
              "    .dataframe tbody tr th {\n",
              "        vertical-align: top;\n",
              "    }\n",
              "\n",
              "    .dataframe thead th {\n",
              "        text-align: right;\n",
              "    }\n",
              "</style>\n",
              "<table border=\"1\" class=\"dataframe\">\n",
              "  <thead>\n",
              "    <tr style=\"text-align: right;\">\n",
              "      <th></th>\n",
              "      <th>English</th>\n",
              "      <th>italian</th>\n",
              "    </tr>\n",
              "  </thead>\n",
              "  <tbody>\n",
              "    <tr>\n",
              "      <th>326660</th>\n",
              "      <td>the language tom was speaking was not french</td>\n",
              "      <td>la lingua che stava parlando tom non era il fr...</td>\n",
              "    </tr>\n",
              "    <tr>\n",
              "      <th>232342</th>\n",
              "      <td>what did you eat this morning</td>\n",
              "      <td>che coshai mangiato questa mattina</td>\n",
              "    </tr>\n",
              "    <tr>\n",
              "      <th>8998</th>\n",
              "      <td>identify tom</td>\n",
              "      <td>identificate tom</td>\n",
              "    </tr>\n",
              "  </tbody>\n",
              "</table>\n",
              "</div>"
            ],
            "text/plain": [
              "                                             English                                            italian\n",
              "326660  the language tom was speaking was not french  la lingua che stava parlando tom non era il fr...\n",
              "232342                 what did you eat this morning                 che coshai mangiato questa mattina\n",
              "8998                                    identify tom                                   identificate tom"
            ]
          },
          "metadata": {
            "tags": []
          },
          "execution_count": 25
        }
      ]
    },
    {
      "cell_type": "code",
      "metadata": {
        "colab": {
          "base_uri": "https://localhost:8080/"
        },
        "id": "MnPwNhOk36kj",
        "outputId": "e2edef63-6c85-4fbb-c262-67f19a310370"
      },
      "source": [
        "data.shape"
      ],
      "execution_count": 26,
      "outputs": [
        {
          "output_type": "execute_result",
          "data": {
            "text/plain": [
              "(345244, 2)"
            ]
          },
          "metadata": {
            "tags": []
          },
          "execution_count": 26
        }
      ]
    },
    {
      "cell_type": "code",
      "metadata": {
        "colab": {
          "base_uri": "https://localhost:8080/",
          "height": 562
        },
        "id": "b5dBIXVe3wJO",
        "outputId": "f29dacee-0a45-4459-af62-b0a0b16cc990"
      },
      "source": [
        "length={}\n",
        "for col in list(data.columns):\n",
        "    txtlen=[]\n",
        "    for txt in data[col]:\n",
        "      txtlen.append(len(txt))\n",
        "    length[col] = np.median(txtlen)\n",
        "    sns.boxplot(txtlen)\n",
        "    plt.title(f'sentence length distribution for {col}')\n",
        "    plt.show()\n",
        "print(length)"
      ],
      "execution_count": 27,
      "outputs": [
        {
          "output_type": "display_data",
          "data": {
            "image/png": "[encoded data removed]",
            "text/plain": [
              "<Figure size 432x288 with 1 Axes>"
            ]
          },
          "metadata": {
            "tags": [],
            "needs_background": "light"
          }
        },
        {
          "output_type": "display_data",
          "data": {
            "image/png": "[encoded data removed]",
            "text/plain": [
              "<Figure size 432x288 with 1 Axes>"
            ]
          },
          "metadata": {
            "tags": [],
            "needs_background": "light"
          }
        },
        {
          "output_type": "stream",
          "text": [
            "{'English': 26.0, 'italian': 27.0}\n"
          ],
          "name": "stdout"
        }
      ]
    },
    {
      "cell_type": "code",
      "metadata": {
        "colab": {
          "base_uri": "https://localhost:8080/"
        },
        "id": "5yGZgsAW4amU",
        "outputId": "727fdf88-411e-408f-d712-00bdde4607ed"
      },
      "source": [
        "maxlen=26\n",
        "data['English_len'] = data['English'].apply(lambda x: len(x.split()))\n",
        "data['italian_len'] = data['italian'].apply(lambda x: len(x.split()))\n",
        "data = data[data['English_len'] <maxlen]\n",
        "data = data[data['italian_len'] <maxlen]\n",
        "data.shape"
      ],
      "execution_count": 28,
      "outputs": [
        {
          "output_type": "execute_result",
          "data": {
            "text/plain": [
              "(344951, 4)"
            ]
          },
          "metadata": {
            "tags": []
          },
          "execution_count": 28
        }
      ]
    },
    {
      "cell_type": "code",
      "metadata": {
        "id": "AIOHTJAOBJSs"
      },
      "source": [
        "data = data.drop(['English_len','italian_len'],axis=1)"
      ],
      "execution_count": 29,
      "outputs": []
    },
    {
      "cell_type": "code",
      "metadata": {
        "colab": {
          "base_uri": "https://localhost:8080/",
          "height": 137
        },
        "id": "Xn_zrnJ1BuhH",
        "outputId": "98fe5145-d989-44e6-84e4-6ffa3e2797a6"
      },
      "source": [
        "data.sample(3)"
      ],
      "execution_count": 30,
      "outputs": [
        {
          "output_type": "execute_result",
          "data": {
            "text/html": [
              "<div>\n",
              "<style scoped>\n",
              "    .dataframe tbody tr th:only-of-type {\n",
              "        vertical-align: middle;\n",
              "    }\n",
              "\n",
              "    .dataframe tbody tr th {\n",
              "        vertical-align: top;\n",
              "    }\n",
              "\n",
              "    .dataframe thead th {\n",
              "        text-align: right;\n",
              "    }\n",
              "</style>\n",
              "<table border=\"1\" class=\"dataframe\">\n",
              "  <thead>\n",
              "    <tr style=\"text-align: right;\">\n",
              "      <th></th>\n",
              "      <th>English</th>\n",
              "      <th>italian</th>\n",
              "    </tr>\n",
              "  </thead>\n",
              "  <tbody>\n",
              "    <tr>\n",
              "      <th>50915</th>\n",
              "      <td>that will not happen</td>\n",
              "      <td>non succederà</td>\n",
              "    </tr>\n",
              "    <tr>\n",
              "      <th>118669</th>\n",
              "      <td>i took the last cookie</td>\n",
              "      <td>ho preso lultimo biscotto</td>\n",
              "    </tr>\n",
              "    <tr>\n",
              "      <th>50230</th>\n",
              "      <td>please explain it</td>\n",
              "      <td>per piacere spiegatelo</td>\n",
              "    </tr>\n",
              "  </tbody>\n",
              "</table>\n",
              "</div>"
            ],
            "text/plain": [
              "                       English                    italian\n",
              "50915     that will not happen              non succederà\n",
              "118669  i took the last cookie  ho preso lultimo biscotto\n",
              "50230        please explain it     per piacere spiegatelo"
            ]
          },
          "metadata": {
            "tags": []
          },
          "execution_count": 30
        }
      ]
    },
    {
      "cell_type": "code",
      "metadata": {
        "id": "bdH3YDMgCPgB"
      },
      "source": [
        "data['english_inp'] = '<start> '+ data['English'].astype('str')\n",
        "data['english_out'] = data['English'].astype('str')+' <end>'\n",
        "data= data.drop('English',axis=1)"
      ],
      "execution_count": 31,
      "outputs": []
    },
    {
      "cell_type": "code",
      "metadata": {
        "colab": {
          "base_uri": "https://localhost:8080/",
          "height": 137
        },
        "id": "_ksEzkjXF0gP",
        "outputId": "7bec4dac-91b0-48ae-bb79-06bde04a33e4"
      },
      "source": [
        "data.sample(3)"
      ],
      "execution_count": 32,
      "outputs": [
        {
          "output_type": "execute_result",
          "data": {
            "text/html": [
              "<div>\n",
              "<style scoped>\n",
              "    .dataframe tbody tr th:only-of-type {\n",
              "        vertical-align: middle;\n",
              "    }\n",
              "\n",
              "    .dataframe tbody tr th {\n",
              "        vertical-align: top;\n",
              "    }\n",
              "\n",
              "    .dataframe thead th {\n",
              "        text-align: right;\n",
              "    }\n",
              "</style>\n",
              "<table border=\"1\" class=\"dataframe\">\n",
              "  <thead>\n",
              "    <tr style=\"text-align: right;\">\n",
              "      <th></th>\n",
              "      <th>italian</th>\n",
              "      <th>english_inp</th>\n",
              "      <th>english_out</th>\n",
              "    </tr>\n",
              "  </thead>\n",
              "  <tbody>\n",
              "    <tr>\n",
              "      <th>261853</th>\n",
              "      <td>lo so che mi sta guardando</td>\n",
              "      <td>&lt;start&gt; i know that you are looking at me</td>\n",
              "      <td>i know that you are looking at me &lt;end&gt;</td>\n",
              "    </tr>\n",
              "    <tr>\n",
              "      <th>159964</th>\n",
              "      <td>siete sicure che tom sia pronto</td>\n",
              "      <td>&lt;start&gt; are you sure tom is ready</td>\n",
              "      <td>are you sure tom is ready &lt;end&gt;</td>\n",
              "    </tr>\n",
              "    <tr>\n",
              "      <th>119750</th>\n",
              "      <td>non sono geloso di tom</td>\n",
              "      <td>&lt;start&gt; i am not jealous of tom</td>\n",
              "      <td>i am not jealous of tom &lt;end&gt;</td>\n",
              "    </tr>\n",
              "  </tbody>\n",
              "</table>\n",
              "</div>"
            ],
            "text/plain": [
              "                                italian  ...                              english_out\n",
              "261853       lo so che mi sta guardando  ...  i know that you are looking at me <end>\n",
              "159964  siete sicure che tom sia pronto  ...          are you sure tom is ready <end>\n",
              "119750           non sono geloso di tom  ...            i am not jealous of tom <end>\n",
              "\n",
              "[3 rows x 3 columns]"
            ]
          },
          "metadata": {
            "tags": []
          },
          "execution_count": 32
        }
      ]
    },
    {
      "cell_type": "code",
      "metadata": {
        "id": "tg-VKYO5LknI"
      },
      "source": [
        "train,test = train_test_split(data,test_size=0.2)"
      ],
      "execution_count": 33,
      "outputs": []
    },
    {
      "cell_type": "code",
      "metadata": {
        "id": "MOMDvIBWCPuc"
      },
      "source": [
        "train.iloc[0]['english_inp'] = train.iloc[0]['english_inp']+' <end>'"
      ],
      "execution_count": 34,
      "outputs": []
    },
    {
      "cell_type": "code",
      "metadata": {
        "colab": {
          "base_uri": "https://localhost:8080/"
        },
        "id": "3wP6OQNwCRDZ",
        "outputId": "3667e73d-2021-46bb-e5e2-b710ffd36a5c"
      },
      "source": [
        "print(train.shape,test.shape)"
      ],
      "execution_count": 35,
      "outputs": [
        {
          "output_type": "stream",
          "text": [
            "(275960, 3) (68991, 3)\n"
          ],
          "name": "stdout"
        }
      ]
    },
    {
      "cell_type": "code",
      "metadata": {
        "colab": {
          "base_uri": "https://localhost:8080/",
          "height": 226
        },
        "id": "tHpSHCe5DMPY",
        "outputId": "387f93f8-0f5d-4924-96e1-5daebe4e3542"
      },
      "source": [
        "eng_inp = train['english_inp'].str.split().apply(len)\n",
        "eng_out = train['english_out'].str.split().apply(len)\n",
        "italian = train['italian'].str.split().apply(len)\n",
        "plt.figure(figsize=(6,3))\n",
        "plt.subplot(1,3,1)\n",
        "sns.kdeplot(eng_inp,color='red')\n",
        "plt.subplot(1,3,2)\n",
        "sns.kdeplot(eng_out,color='green')\n",
        "plt.subplot(1,3,3)\n",
        "sns.kdeplot(italian,color='blue')\n",
        "plt.show()"
      ],
      "execution_count": 36,
      "outputs": [
        {
          "output_type": "display_data",
          "data": {
            "image/png": "[encoded data removed]",
            "text/plain": [
              "<Figure size 432x216 with 3 Axes>"
            ]
          },
          "metadata": {
            "tags": [],
            "needs_background": "light"
          }
        }
      ]
    },
    {
      "cell_type": "code",
      "metadata": {
        "id": "Txd1gQ0vD9Bd"
      },
      "source": [
        "tokenizer_eng = Tokenizer(filters='!\"#$%&()*+,-./:;=?@[\\\\]^_`{|}~\\t\\n')\n",
        "tokenizer_eng.fit_on_texts(train['english_inp'].values)"
      ],
      "execution_count": 37,
      "outputs": []
    },
    {
      "cell_type": "code",
      "metadata": {
        "id": "PdQ-6FpVHBsm"
      },
      "source": [
        "vocab_eng = len(list(tokenizer_eng.word_index.keys()))"
      ],
      "execution_count": 38,
      "outputs": []
    },
    {
      "cell_type": "code",
      "metadata": {
        "colab": {
          "base_uri": "https://localhost:8080/"
        },
        "id": "UARgx0n6HSKj",
        "outputId": "066ae6d2-41a7-41bb-f4a6-c2f1da189370"
      },
      "source": [
        "print([(key,val) for key,val in dict(tokenizer_eng.word_index).items()][:5])"
      ],
      "execution_count": 39,
      "outputs": [
        {
          "output_type": "stream",
          "text": [
            "[('<start>', 1), ('i', 2), ('you', 3), ('tom', 4), ('to', 5)]\n"
          ],
          "name": "stdout"
        }
      ]
    },
    {
      "cell_type": "code",
      "metadata": {
        "id": "YwGbz69HJeGg"
      },
      "source": [
        "tokenizer_ita = Tokenizer()\n",
        "tokenizer_ita.fit_on_texts(train['italian'].values)"
      ],
      "execution_count": 40,
      "outputs": []
    },
    {
      "cell_type": "code",
      "metadata": {
        "id": "78wRk7snKETV"
      },
      "source": [
        "vocab_ita = len(list(tokenizer_ita.word_index.keys()))"
      ],
      "execution_count": 41,
      "outputs": []
    },
    {
      "cell_type": "code",
      "metadata": {
        "colab": {
          "base_uri": "https://localhost:8080/"
        },
        "id": "mFbIxxjKKPeq",
        "outputId": "2030e6b6-5c08-4a75-9ccd-9b0a0a76ea30"
      },
      "source": [
        "print([(key,val) for key,val in dict(tokenizer_ita.word_index).items()][:5])"
      ],
      "execution_count": 42,
      "outputs": [
        {
          "output_type": "stream",
          "text": [
            "[('tom', 1), ('non', 2), ('è', 3), ('di', 4), ('a', 5)]\n"
          ],
          "name": "stdout"
        }
      ]
    },
    {
      "cell_type": "code",
      "metadata": {
        "colab": {
          "base_uri": "https://localhost:8080/"
        },
        "id": "XcpYN2c5KikR",
        "outputId": "b63e933e-b2b2-4378-94d3-d0cb298ee5e3"
      },
      "source": [
        "for i,word in enumerate(list(tokenizer_eng.word_index.keys())):\n",
        "  if '<' in word:\n",
        "    print(i,word)"
      ],
      "execution_count": 43,
      "outputs": [
        {
          "output_type": "stream",
          "text": [
            "0 <start>\n",
            "10135 <end>\n"
          ],
          "name": "stdout"
        }
      ]
    },
    {
      "cell_type": "code",
      "metadata": {
        "id": "9Bl7uIVmLkWC"
      },
      "source": [
        "word_index_dict_eng = {index: word for word, index in tokenizer_eng.word_index.items()}"
      ],
      "execution_count": 158,
      "outputs": []
    },
    {
      "cell_type": "markdown",
      "metadata": {
        "id": "BsH9TCuF0xjS"
      },
      "source": [
        "## Encoder - Decoder Model"
      ]
    },
    {
      "cell_type": "code",
      "metadata": {
        "id": "3v1gH3cO010e"
      },
      "source": [
        "import tensorflow as tf\n",
        "from tensorflow.keras import layers\n",
        "from tensorflow.keras.layers import Embedding,LSTM,Dot,Dense"
      ],
      "execution_count": 58,
      "outputs": []
    },
    {
      "cell_type": "code",
      "metadata": {
        "id": "qWy9RajsMSjs"
      },
      "source": [
        "class Encoder(tf.keras.Model):\n",
        "  '''\n",
        "  Embedding_layer\n",
        "  LSTM layer\n",
        "  '''\n",
        "  def __init__(self,input_vocab,embedding_dim,input_length,encoder_units):\n",
        "    super().__init__()\n",
        "    self.input_vocab = input_vocab\n",
        "    self.embedding_dim = embedding_dim\n",
        "    self.input_length = input_length\n",
        "    self.encoder_units = encoder_units\n",
        "\n",
        "  def build(self,*params):\n",
        "    self.embedding_layer = Embedding(input_dim=self.input_vocab,output_dim=self.embedding_dim,input_length=self.input_length,trainable=True,\n",
        "                                     name = \"Encoder_embedding_layer\")\n",
        "    self.lstm_layer  = LSTM(units = self.encoder_units,return_sequences=True,return_state=True,\n",
        "                            name = \"Encoder_lstm_layer\")\n",
        "  def call(self,input_sequence,training=True):\n",
        "    '''\n",
        "    ============================== ENCODER ==============================\n",
        "    INPUT TO ENCODER\n",
        "    input_sequence:  (16, 100)\n",
        "    OUTPUT OF ENCODER\n",
        "    embed_output: (16, 100, 512) (batch_size,input_length,embedding_dim)\n",
        "    lstm_output:  (16, 100, 50) (batch_size,input_length,lstm_size)\n",
        "    hidden_state:  (16, 50) (batch_size,lstm_size)\n",
        "    cell_state:  (16, 50) (batch_size,lstm_size)\n",
        "    =======================================================================\n",
        "    '''\n",
        "    embed_output = self.embedding_layer(input_sequence)\n",
        "    lstm_output,hidden_state,cell_state = self.lstm_layer(embed_output)\n",
        "\n",
        "    return lstm_output,hidden_state,cell_state\n",
        "  \n",
        "  def initialize_states(self,batch_size):\n",
        "     hidden_state = tf.zeros((batch_size,self.encoder_units))\n",
        "     cell_state = tf.zeros((batch_size,self.encoder_units))\n",
        "\n",
        "     return hidden_state,cell_state"
      ],
      "execution_count": 171,
      "outputs": []
    },
    {
      "cell_type": "code",
      "metadata": {
        "id": "pjfq7E9_QZKt"
      },
      "source": [
        "class Attention(layers.Layer):\n",
        "  '''\n",
        "  score > attenton_weights > context_vector\n",
        "  '''\n",
        "  def __init__(self,attention_units,name = \"Attenion_layer\"):\n",
        "    super().__init__()\n",
        "    self.attention_units = attention_units   \n",
        "    self.W1 = Dense(self.attention_units)\n",
        "    self.W2 = Dense(self.attention_units)\n",
        "    self.V  = Dense(1)\n",
        "\n",
        "  def call(self,decoder_hidden_state,encoder_output):\n",
        "    '''\n",
        "    ============================== Attention ==============================\n",
        "    INPUT TO Attention\n",
        "    decoder_hidden_state (After dim change):  (16, 1, 32)\n",
        "    encoder_output:  (16, 100, 32)\n",
        "    OUTPUT OF ENCODER\n",
        "    score: (16, 100, 1)\n",
        "    attention_weights:  (16, 100, 1) ((batch_size,input_length,1))\n",
        "    context_vector:  (16, 32) (batch_size,att_units)\n",
        "    ======================================================================\n",
        "    '''\n",
        "    decoder_hidden_state = tf.expand_dims(decoder_hidden_state,axis = 1)\n",
        "    score = self.V(tf.nn.tanh(self.W1(decoder_hidden_state) + self.W2(encoder_output)))\n",
        "    attention_weights = tf.nn.softmax(score,axis = 1)\n",
        "    context_vector = attention_weights * encoder_output\n",
        "    context_vector = tf.reduce_sum(context_vector,axis = 1)\n",
        "\n",
        "    return attention_weights,context_vector"
      ],
      "execution_count": 137,
      "outputs": []
    },
    {
      "cell_type": "code",
      "metadata": {
        "id": "bJClg4kgVKfU"
      },
      "source": [
        "class single_step_decoder(tf.keras.Model):\n",
        "  '''\n",
        "  EMBEDDING > ATTENTION > LSTM > OUTPUT >> SQUEEZE\n",
        "  '''\n",
        "  def __init__(self,target_vocab,embedding_dim,attention_units,decoder_units):\n",
        "    super().__init__()\n",
        "    self.target_vocab = target_vocab\n",
        "    self.embedding_dim = embedding_dim\n",
        "    self.attention_units = attention_units\n",
        "    self.decoder_units = decoder_units\n",
        "  \n",
        "  def build(self,*params):\n",
        "    self.embedding_layer = Embedding(input_dim=self.target_vocab,output_dim=self.embedding_dim,mask_zero=True,\n",
        "                                     name = \"Decoder_embedding_layer\")\n",
        "    self.attention_layer = Attention(attention_units=self.attention_units,\n",
        "                                     name = \"Decoder_Attention_layer\")\n",
        "    self.lstm_layer = LSTM(units = self.decoder_units,return_sequences=True,return_state=True,\n",
        "                           name = \"Decoder_lstm_layer\")\n",
        "    self.dense = Dense(self.target_vocab,\n",
        "                       name = \"Decoder_dense_layer\") \n",
        "\n",
        "  def call(self,decoder_input,encoder_output,hidden_state,cell_state):\n",
        "    '''\n",
        "    ============================== Single Step Decoder ==============================\n",
        "    INPUT TO Single Step Decoder\n",
        "    encoder_output:  (32, 100, 16)\n",
        "    decoder_input:  (32, 1)\n",
        "    hidden_state:  (32, 16)\n",
        "    cell_state:  (32, 16)\n",
        "    OUTPUT OF Single Step Decoder\n",
        "    embedding_output: (32, 1, 12)\n",
        "    attention_weights:  (32, 100, 1) \n",
        "    context_vector:  (32, 16) \n",
        "    context_vector (expand dims):  (32, 1, 16)\n",
        "    context_vector (after_concatenation):  (32, 1, 28) \n",
        "    out output:  (32, 1, 16)\n",
        "    out hidden_state:  (32, 16) \n",
        "    out cell_state:  (32, 16) \n",
        "    output (32, 1, 13)\n",
        "    RESULT\n",
        "    out hidden_state:  (32, 16) (batch_size,dec_units)\n",
        "    out cell_state:  (32, 16) (batch_size,dec_units)\n",
        "    output_squeeze (32, 13)  (batch_size,tar_vocab_size)\n",
        "    attention_weights:  (32, 100, 1) (batch_size,input_length,1)\n",
        "    context_vector:  (32, 16) (batch_size,dec_units)\n",
        "    ================================================================================\n",
        "    '''\n",
        "    embedding_output = self.embedding_layer(decoder_input)\n",
        "    attention_weights,context_vector = self.attention_layer(hidden_state,encoder_output)\n",
        "    context_vector = tf.expand_dims(context_vector,axis = 1)\n",
        "    context_vector = tf.concat([embedding_output,context_vector],axis = -1)\n",
        "\n",
        "    output,ssd_hidden_state,ssd_cell_state = self.lstm_layer(context_vector)\n",
        "    output = self.dense(output)\n",
        "    output = tf.squeeze(output,axis = 1)\n",
        "\n",
        "    return output,attention_weights,hidden_state,cell_state"
      ],
      "execution_count": 138,
      "outputs": []
    },
    {
      "cell_type": "code",
      "metadata": {
        "id": "0p3lK0hxhTxY"
      },
      "source": [
        "class Decoder(tf.keras.Model):\n",
        "  def __init__(self,target_vocab,embedding_dim,attention_units,decoder_units,input_len):\n",
        "    super().__init__()\n",
        "    self.target_vocab = target_vocab\n",
        "    self.embedding_dim = embedding_dim\n",
        "    self.attention_units = attention_units\n",
        "    self.decoder_units = decoder_units\n",
        "    self.input_len = input_len\n",
        "\n",
        "  def build(self,*params):\n",
        "    self.single_step_decoder = single_step_decoder(target_vocab=self.target_vocab,embedding_dim=self.embedding_dim,\n",
        "                                                   attention_units=self.attention_units,decoder_units=self.decoder_units)\n",
        "\n",
        "  def call(self,decoder_input,encoder_output,hidden_state,cell_state):\n",
        "    '''\n",
        "    ============================== Single Step Decoder ============================\n",
        "    INPUT TO Single Step Decoder\n",
        "    encoder_output:  (32, 11, 16)\n",
        "    decoder_input:  (32, 1)\n",
        "    hidden_state:  (32, 16)\n",
        "    cell_state:  (32, 16)\n",
        "    OUTPUT OF Single Step Decoder\n",
        "    embedding_output: (32, 1, 12)\n",
        "    attention_weights:  (32, 11, 1)\n",
        "    context_vector:  (32, 16)\n",
        "    context_vector (expand dims):  (32, 1, 16)\n",
        "    context_vector (after_concatenation):  (32, 1, 28)\n",
        "    out output:  (32, 1, 16)\n",
        "    out hidden_state:  (32, 16)\n",
        "    out cell_state:  (32, 16)\n",
        "    output (32, 1, 13)\n",
        "    output_squeeze (32, 13)\n",
        "    ================================================================================\n",
        "    ================================================================================\n",
        "    outputs final  (32, 11, 13) (batch_size,input_length,out_vocab_size)\n",
        "    ================================================================================\n",
        "    '''\n",
        "    outputs = tf.TensorArray(tf.float32,size = self.input_len)\n",
        "    for t in range(self.input_len):\n",
        "      output,attention_weights,dec_hidden_state,dec_cell_state = self.single_step_decoder(decoder_input[:,t:t+1],encoder_output,hidden_state,cell_state)\n",
        "      outputs = outputs.write(t,output)\n",
        "    outputs = tf.transpose(outputs.stack(), [1, 0, 2])   \n",
        "    return outputs"
      ],
      "execution_count": 139,
      "outputs": []
    },
    {
      "cell_type": "code",
      "metadata": {
        "id": "aSmevXirOLgE"
      },
      "source": [
        " class Translate_model(tf.keras.Model):\n",
        "  def __init__(self,input_vocab,target_vocab,embedding_dim,input_length,encoder_units,attention_units,decoder_units):\n",
        "    super().__init__()\n",
        "    self.input_vocab = input_vocab\n",
        "    self.target_vocab = target_vocab\n",
        "    self.embedding_dim = embedding_dim\n",
        "    self.input_length = input_length\n",
        "    self.encoder_units = encoder_units\n",
        "    self.attention_units = attention_units\n",
        "    self.decoder_units = decoder_units\n",
        "  \n",
        "  def build(self,*params):\n",
        "    self.encoder = Encoder(input_vocab=self.input_vocab,embedding_dim=self.embedding_dim,input_length=self.input_length,encoder_units=self.encoder_units)\n",
        "\n",
        "    self.decoder = Decoder(target_vocab=self.target_vocab,embedding_dim = self.embedding_dim,attention_units=self.attention_units,decoder_units=self.decoder_units,\n",
        "                           input_len=self.input_length)\n",
        "\n",
        "  def call(self,data):\n",
        "    input_,output_ = data[0],data[1]\n",
        "    initial_state = self.encoder.initialize_states(batch_size)\n",
        "    encoder_output, encoder_h, encoder_c = self.encoder(input_,initial_state)\n",
        "    output = self.decoder(output_, encoder_output,encoder_h, encoder_c)\n",
        "    return output"
      ],
      "execution_count": 140,
      "outputs": []
    },
    {
      "cell_type": "markdown",
      "metadata": {
        "id": "SN6GH42OtElX"
      },
      "source": [
        "## Data loading"
      ]
    },
    {
      "cell_type": "code",
      "metadata": {
        "id": "pM2DW7i2tDWC"
      },
      "source": [
        "class Dataset:\n",
        "    def __init__(self, data, tknizer_ita, tknizer_eng, max_len):\n",
        "        self.encoder_inps = data['italian'].values\n",
        "        self.decoder_inps = data['english_inp'].values\n",
        "        self.decoder_outs = data['english_out'].values\n",
        "        self.tknizer_eng = tknizer_eng\n",
        "        self.tknizer_ita = tknizer_ita\n",
        "        self.max_len = max_len\n",
        "\n",
        "    def __getitem__(self, i):\n",
        "        self.encoder_seq = self.tknizer_ita.texts_to_sequences([self.encoder_inps[i]]) \n",
        "        self.decoder_inp_seq = self.tknizer_eng.texts_to_sequences([self.decoder_inps[i]])\n",
        "        self.decoder_out_seq = self.tknizer_eng.texts_to_sequences([self.decoder_outs[i]])\n",
        "\n",
        "        self.encoder_seq = pad_sequences(self.encoder_seq, maxlen=self.max_len, dtype='int32', padding='post')\n",
        "        self.decoder_inp_seq = pad_sequences(self.decoder_inp_seq, maxlen=self.max_len, dtype='int32', padding='post')\n",
        "        self.decoder_out_seq = pad_sequences(self.decoder_out_seq, maxlen=self.max_len, dtype='int32', padding='post')\n",
        "        return self.encoder_seq, self.decoder_inp_seq, self.decoder_out_seq\n",
        "\n",
        "    def __len__(self): \n",
        "        return len(self.encoder_inps)\n",
        "\n",
        "    \n",
        "class Dataloder(tf.keras.utils.Sequence):    \n",
        "    def __init__(self, dataset, batch_size=1):\n",
        "        self.dataset = dataset\n",
        "        self.batch_size = batch_size\n",
        "        self.indexes = np.arange(len(self.dataset.encoder_inps))\n",
        "\n",
        "\n",
        "    def __getitem__(self, i):\n",
        "        start = i * self.batch_size\n",
        "        stop = (i + 1) * self.batch_size\n",
        "        data = []\n",
        "        for j in range(start, stop):\n",
        "            data.append(self.dataset[j])\n",
        "        batch = [np.squeeze(np.stack(samples, axis=1), axis=0) for samples in zip(*data)]\n",
        "        return tuple([[batch[0],batch[1]],batch[2]])\n",
        "\n",
        "    def __len__(self): \n",
        "        return len(self.indexes) // self.batch_size\n",
        "\n",
        "    def on_epoch_end(self):\n",
        "        self.indexes = np.random.permutation(self.indexes)"
      ],
      "execution_count": 141,
      "outputs": []
    },
    {
      "cell_type": "code",
      "metadata": {
        "id": "UR8lp5dLGqcB"
      },
      "source": [
        "train_dataset = Dataset(train, tokenizer_ita, tokenizer_eng, 20)\n",
        "test_dataset  = Dataset(test,  tokenizer_ita, tokenizer_eng, 20)"
      ],
      "execution_count": null,
      "outputs": []
    },
    {
      "cell_type": "code",
      "metadata": {
        "id": "eIq6gMobGtlF"
      },
      "source": [
        "train_dataloader = Dataloder(train_dataset, batch_size=1024)\n",
        "test_dataloader = Dataloder(test_dataset, batch_size=1024)"
      ],
      "execution_count": null,
      "outputs": []
    },
    {
      "cell_type": "code",
      "metadata": {
        "colab": {
          "base_uri": "https://localhost:8080/"
        },
        "id": "p9r4mB6ys5Jt",
        "outputId": "8dc04fc1-3ffc-4db0-ece4-0099af3b244b"
      },
      "source": [
        "print(train_dataloader[0][0][0].shape)"
      ],
      "execution_count": 142,
      "outputs": [
        {
          "output_type": "stream",
          "text": [
            "(1024, 20) (1024, 20) (1024, 20)\n"
          ],
          "name": "stdout"
        }
      ]
    },
    {
      "cell_type": "markdown",
      "metadata": {
        "id": "vyz8uKfhtgi9"
      },
      "source": [
        "## Model Compile"
      ]
    },
    {
      "cell_type": "code",
      "metadata": {
        "id": "HTqFQa98yFQ9"
      },
      "source": [
        "optimizer = tf.keras.optimizers.Adam()\n",
        "loss_object = tf.keras.losses.SparseCategoricalCrossentropy(from_logits=True, reduction='none')"
      ],
      "execution_count": 143,
      "outputs": []
    },
    {
      "cell_type": "code",
      "metadata": {
        "id": "I8VyXYrLyHFX"
      },
      "source": [
        "def custom_lossfunction(targets,logits):\n",
        "  # https://www.tensorflow.org/tutorials/text/nmt_with_attention\n",
        "\n",
        "  mask = tf.math.logical_not(tf.math.equal(targets, 0))\n",
        "  loss_ = loss_object(targets, logits)\n",
        "\n",
        "  mask = tf.cast(mask, dtype=loss_.dtype)\n",
        "  loss_ *= mask\n",
        "\n",
        "  return tf.reduce_mean(loss_)"
      ],
      "execution_count": 144,
      "outputs": []
    },
    {
      "cell_type": "code",
      "metadata": {
        "colab": {
          "base_uri": "https://localhost:8080/"
        },
        "id": "jkySlLUprmUH",
        "outputId": "2a3ba92e-6f7d-4767-eaf1-9487bc7862a5"
      },
      "source": [
        "tf.keras.backend.clear_session()\n",
        "# https://www.tensorflow.org/text/tutorials/nmt_with_attention#the_attention_head\n",
        "model  = Translate_model(input_vocab = vocab_ita+1,target_vocab = vocab_eng+1,\n",
        "                         embedding_dim = 100,\n",
        "                         input_length = 20,\n",
        "                         encoder_units = 250,\n",
        "                         attention_units = 250,\n",
        "                         decoder_units = 200)\n",
        "\n",
        "optimizer = tf.keras.optimizers.Adam()\n",
        "model.compile(optimizer=optimizer,loss=custom_lossfunction)\n",
        "batch_size = 1024\n",
        "train_steps=train.shape[0]//1024\n",
        "valid_steps=test.shape[0]//1024\n",
        "model.fit(train_dataloader, steps_per_epoch=train_steps, epochs=30, validation_data=test_dataloader, validation_steps=valid_steps)\n",
        "model.summary()"
      ],
      "execution_count": 145,
      "outputs": [
        {
          "output_type": "stream",
          "text": [
            "Epoch 1/30\n",
            "269/269 [==============================] - 155s 469ms/step - loss: 1.9802 - val_loss: 1.8614\n",
            "Epoch 2/30\n",
            "269/269 [==============================] - 119s 441ms/step - loss: 1.7498 - val_loss: 1.6293\n",
            "Epoch 3/30\n",
            "269/269 [==============================] - 119s 442ms/step - loss: 1.4892 - val_loss: 1.3684\n",
            "Epoch 4/30\n",
            "269/269 [==============================] - 119s 442ms/step - loss: 1.2730 - val_loss: 1.1859\n",
            "Epoch 5/30\n",
            "269/269 [==============================] - 119s 443ms/step - loss: 1.1042 - val_loss: 1.0425\n",
            "Epoch 6/30\n",
            "269/269 [==============================] - 119s 442ms/step - loss: 0.9722 - val_loss: 0.9299\n",
            "Epoch 7/30\n",
            "269/269 [==============================] - 119s 443ms/step - loss: 0.8567 - val_loss: 0.8277\n",
            "Epoch 8/30\n",
            "269/269 [==============================] - 119s 443ms/step - loss: 0.7536 - val_loss: 0.7399\n",
            "Epoch 9/30\n",
            "269/269 [==============================] - 120s 445ms/step - loss: 0.6647 - val_loss: 0.6675\n",
            "Epoch 10/30\n",
            "269/269 [==============================] - 120s 445ms/step - loss: 0.5901 - val_loss: 0.6076\n",
            "Epoch 11/30\n",
            "269/269 [==============================] - 120s 445ms/step - loss: 0.5275 - val_loss: 0.5585\n",
            "Epoch 12/30\n",
            "269/269 [==============================] - 119s 444ms/step - loss: 0.4748 - val_loss: 0.5178\n",
            "Epoch 13/30\n",
            "269/269 [==============================] - 120s 445ms/step - loss: 0.4303 - val_loss: 0.4855\n",
            "Epoch 14/30\n",
            "269/269 [==============================] - 120s 444ms/step - loss: 0.3922 - val_loss: 0.4586\n",
            "Epoch 15/30\n",
            "269/269 [==============================] - 120s 444ms/step - loss: 0.3594 - val_loss: 0.4348\n",
            "Epoch 16/30\n",
            "269/269 [==============================] - 120s 444ms/step - loss: 0.3312 - val_loss: 0.4148\n",
            "Epoch 17/30\n",
            "269/269 [==============================] - 119s 443ms/step - loss: 0.3065 - val_loss: 0.3982\n",
            "Epoch 18/30\n",
            "269/269 [==============================] - 119s 443ms/step - loss: 0.2848 - val_loss: 0.3835\n",
            "Epoch 19/30\n",
            "269/269 [==============================] - 120s 444ms/step - loss: 0.2659 - val_loss: 0.3716\n",
            "Epoch 20/30\n",
            "269/269 [==============================] - 120s 444ms/step - loss: 0.2488 - val_loss: 0.3610\n",
            "Epoch 21/30\n",
            "269/269 [==============================] - 120s 444ms/step - loss: 0.2333 - val_loss: 0.3520\n",
            "Epoch 22/30\n",
            "269/269 [==============================] - 120s 445ms/step - loss: 0.2197 - val_loss: 0.3443\n",
            "Epoch 23/30\n",
            "269/269 [==============================] - 120s 446ms/step - loss: 0.2073 - val_loss: 0.3374\n",
            "Epoch 24/30\n",
            "269/269 [==============================] - 120s 445ms/step - loss: 0.1959 - val_loss: 0.3316\n",
            "Epoch 25/30\n",
            "269/269 [==============================] - 120s 444ms/step - loss: 0.1855 - val_loss: 0.3261\n",
            "Epoch 26/30\n",
            "269/269 [==============================] - 120s 445ms/step - loss: 0.1764 - val_loss: 0.3227\n",
            "Epoch 27/30\n",
            "269/269 [==============================] - 120s 445ms/step - loss: 0.1676 - val_loss: 0.3180\n",
            "Epoch 28/30\n",
            "269/269 [==============================] - 120s 445ms/step - loss: 0.1594 - val_loss: 0.3144\n",
            "Epoch 29/30\n",
            "269/269 [==============================] - 129s 478ms/step - loss: 0.1522 - val_loss: 0.3122\n",
            "Epoch 30/30\n",
            "269/269 [==============================] - 120s 445ms/step - loss: 0.1450 - val_loss: 0.3094\n",
            "Model: \"translate_model\"\n",
            "_________________________________________________________________\n",
            "Layer (type)                 Output Shape              Param #   \n",
            "=================================================================\n",
            "encoder (Encoder)            multiple                  2976400   \n",
            "_________________________________________________________________\n",
            "decoder (Decoder)            multiple                  4429284   \n",
            "=================================================================\n",
            "Total params: 7,405,684\n",
            "Trainable params: 7,405,684\n",
            "Non-trainable params: 0\n",
            "_________________________________________________________________\n"
          ],
          "name": "stdout"
        }
      ]
    },
    {
      "cell_type": "code",
      "metadata": {
        "id": "g-D_-PSwB9cC"
      },
      "source": [
        "def predict(input_sentence):\n",
        "\n",
        "  #PREPROCESSING\n",
        "  input_seq = tokenizer_ita.texts_to_sequences([input_sentence])\n",
        "  input_padded_seq = pad_sequences(input_seq,maxlen=20,dtype='int32',padding='post')\n",
        "  encoder_output,encoder_hidden_state,encoder_cell_state = model.layers[0](input_padded_seq,[3,3])\n",
        "  decoder_input = np.array(tokenizer_eng.word_index['<start>']).reshape(1,1)\n",
        "\n",
        "  #PREDICTION\n",
        "  prediction_results = []\n",
        "  for t in range(20):\n",
        "    output,attention_weights,dec_hidden_state,dec_cell_state = model.layers[1].single_step_decoder(decoder_input,encoder_output,encoder_hidden_state,encoder_cell_state)\n",
        "    pred = tf.argmax(output[0]).numpy()\n",
        "    if pred == tokenizer_eng.word_index['<end>']:\n",
        "      break\n",
        "    prediction_results.append(pred)\n",
        "\n",
        "    decoder_input = np.array(pred).reshape(1, 1)\n",
        "    \n",
        "  return ' '.join([word_index_dict_eng[idx] for idx in prediction_results])"
      ],
      "execution_count": 196,
      "outputs": []
    },
    {
      "cell_type": "code",
      "metadata": {
        "colab": {
          "base_uri": "https://localhost:8080/"
        },
        "id": "-0M-AX-BJkFN",
        "outputId": "41b9f3c8-15bf-4678-9bca-9d10594f6902"
      },
      "source": [
        "for i in list(np.random.randint(100,200,5)):\n",
        "  to_pred = test.italian.values[i]\n",
        "  sentence = predict(to_pred)\n",
        "  print(\"Italian sentence   : \",to_pred)\n",
        "  print(\"Predicted sentence : \",sentence)\n",
        "  print(\"Actual sentence    : \",test.english_out.values[i])\n",
        "  print(\"\\n\")\n"
      ],
      "execution_count": 197,
      "outputs": [
        {
          "output_type": "stream",
          "text": [
            "Italian sentence   :  deve imparare a farsi gli affari suoi\n",
            "Predicted sentence :  you must learn his own business\n",
            "Actual sentence    :  you need to learn to mind your own business <end>\n",
            "\n",
            "\n",
            "Italian sentence   :  tom mi ha seguito fino a casa\n",
            "Predicted sentence :  tom followed me home\n",
            "Actual sentence    :  tom followed me home <end>\n",
            "\n",
            "\n",
            "Italian sentence   :  ero soltanto nel quartiere\n",
            "Predicted sentence :  i was just in the neighborhood\n",
            "Actual sentence    :  i was just in the neighborhood <end>\n",
            "\n",
            "\n",
            "Italian sentence   :  tom era il solo che ha bevuto del tè\n",
            "Predicted sentence :  tom was the only one who was the only one who was the only one who was the only one\n",
            "Actual sentence    :  tom was the only one who drank tea <end>\n",
            "\n",
            "\n",
            "Italian sentence   :  io sono furioso con tom\n",
            "Predicted sentence :  i am furious with tom\n",
            "Actual sentence    :  i am furious with tom <end>\n",
            "\n",
            "\n"
          ],
          "name": "stdout"
        }
      ]
    },
    {
      "cell_type": "code",
      "metadata": {
        "colab": {
          "base_uri": "https://localhost:8080/"
        },
        "id": "-VTv7SnmST2Q",
        "outputId": "1af24b24-9bbc-4b53-968a-af9686a4b9b7"
      },
      "source": [
        "# https://www.nltk.org/_modules/nltk/translate/bleu_score.html\n",
        "\n",
        "blew_score = 0\n",
        "for i in tqdm(range(1000)):\n",
        "  input_sentence = test.iloc[i]['italian']\n",
        "  output_sentence = predict(input_sentence)\n",
        "  reference = test.iloc[i]['english_inp']\n",
        "  blew_score += sentence_bleu(references=reference, hypothesis = output_sentence)\n",
        "\n",
        "print('BLEU score: {}'.format(blew_score/ 1000))"
      ],
      "execution_count": 198,
      "outputs": [
        {
          "output_type": "stream",
          "text": [
            "100%|██████████| 1000/1000 [01:12<00:00, 13.72it/s]"
          ],
          "name": "stderr"
        },
        {
          "output_type": "stream",
          "text": [
            "BLEU score: 0.8291400729697904\n"
          ],
          "name": "stdout"
        },
        {
          "output_type": "stream",
          "text": [
            "\n"
          ],
          "name": "stderr"
        }
      ]
    },
    {
      "cell_type": "code",
      "metadata": {
        "colab": {
          "base_uri": "https://localhost:8080/",
          "height": 35
        },
        "id": "KHclK9INWKVA",
        "outputId": "e912cee2-7bb1-4a20-eea8-34a076d41e46"
      },
      "source": [
        "predict(\"Grazie\")"
      ],
      "execution_count": 208,
      "outputs": [
        {
          "output_type": "execute_result",
          "data": {
            "application/vnd.google.colaboratory.intrinsic+json": {
              "type": "string"
            },
            "text/plain": [
              "'thanks'"
            ]
          },
          "metadata": {
            "tags": []
          },
          "execution_count": 208
        }
      ]
    }
  ]
}